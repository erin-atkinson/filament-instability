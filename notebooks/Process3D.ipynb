{
 "cells": [
  {
   "cell_type": "code",
   "execution_count": 1,
   "metadata": {},
   "outputs": [
    {
     "name": "stderr",
     "output_type": "stream",
     "text": [
      "\u001b[36m\u001b[1m[ \u001b[22m\u001b[39m\u001b[36m\u001b[1mInfo: \u001b[22m\u001b[39mOceananigans will use 4 threads\n"
     ]
    }
   ],
   "source": [
    "using Oceananigans\n",
    "using CairoMakie\n",
    "using JLD2\n",
    "using Statistics"
   ]
  },
  {
   "cell_type": "code",
   "execution_count": 9,
   "metadata": {},
   "outputs": [
    {
     "data": {
      "text/plain": [
       "∂z (generic function with 1 method)"
      ]
     },
     "execution_count": 9,
     "metadata": {},
     "output_type": "execute_result"
    }
   ],
   "source": [
    "foldername = \"../../scratch/filament-instability/Ri000-3d\"\n",
    "filename = \"3d_state.jld2\"\n",
    "paramfilename = \"parameters.jld2\"\n",
    "sp = jldopen(\"$foldername/$paramfilename\") do file\n",
    "    file[\"parameters/simulation\"]\n",
    "end\n",
    "frames, grid = jldopen(\"$foldername/$filename\") do file\n",
    "    (keys(file[\"timeseries/t\"])[1:end], file[\"serialized/grid\"])\n",
    "end\n",
    "ts = jldopen(\"$foldername/$filename\") do file\n",
    "    [file[\"timeseries/t/$frame\"] for frame in frames] .- 1\n",
    "end\n",
    "xᶜᵃᵃ = xnodes(Center, grid)\n",
    "xᶠᵃᵃ = xnodes(Face, grid)\n",
    "zᵃᵃᶜ = znodes(Center, grid)\n",
    "zᵃᵃᶠ = znodes(Face, grid)\n",
    "Δzᵃᵃᶜ = reshape(diff(zᵃᵃᶠ), 1, 1, length(zᵃᵃᶜ))\n",
    "Δx = xᶠᵃᵃ[2] - xᶠᵃᵃ[1]\n",
    "\n",
    "@inline function ∂x(fᶜᵃᵃ)\n",
    "    return (circshift(fᶜᵃᵃ, (-1, 0, 0)) - circshift(fᶜᵃᵃ, (1, 0, 0))) / (2Δx)\n",
    "end\n",
    "@inline function ∂z(fᶜᵃᵃ)\n",
    "    let a = (circshift(fᶜᵃᵃ, (0, 0, -1)) - circshift(fᶜᵃᵃ, (0, 0, 1))) ./ (2Δzᵃᵃᶜ)\n",
    "        a[:, :, 1] .= 0\n",
    "        a[:, :, end] .= 0\n",
    "        a\n",
    "    end\n",
    "end"
   ]
  },
  {
   "cell_type": "code",
   "execution_count": 10,
   "metadata": {},
   "outputs": [
    {
     "data": {
      "text/plain": [
       "\"1704\""
      ]
     },
     "execution_count": 10,
     "metadata": {},
     "output_type": "execute_result"
    }
   ],
   "source": [
    "t = 2.32\n",
    "i = argmin(abs.(ts .- t))\n",
    "frame = frames[i]"
   ]
  },
  {
   "cell_type": "code",
   "execution_count": 11,
   "metadata": {},
   "outputs": [],
   "source": [
    "ω = jldopen(\"$foldername/$filename\") do file\n",
    "    u = file[\"timeseries/u/$frame\"]\n",
    "    u = (circshift(u, (-1, 0, 0)) .+ circshift(u, (1, 0, 0))) / 2\n",
    "    w = file[\"timeseries/w/$frame\"]\n",
    "    w = (w[:, :, 1:end-1] .+ w[:, :, 2:end]) / 2\n",
    "    ∂z(u) - ∂x(w)\n",
    "    end;"
   ]
  },
  {
   "cell_type": "code",
   "execution_count": 12,
   "metadata": {},
   "outputs": [
    {
     "data": {
      "text/plain": [
       "(1024, 1024, 128)"
      ]
     },
     "execution_count": 12,
     "metadata": {},
     "output_type": "execute_result"
    }
   ],
   "source": [
    "size(ω)"
   ]
  },
  {
   "cell_type": "code",
   "execution_count": 14,
   "metadata": {},
   "outputs": [],
   "source": [
    "v′w′ = jldopen(\"$foldername/$filename\") do file\n",
    "    v = file[\"timeseries/v/$frame\"]\n",
    "    v = (circshift(v, (0, -1, 0)) .+ circshift(v, (0, 1, 0))) / 2\n",
    "    w = file[\"timeseries/w/$frame\"]\n",
    "    w = (w[:, :, 1:end-1] .+ w[:, :, 2:end]) / 2\n",
    "    \n",
    "    v′ = v .- mean(w; dims=2)\n",
    "    w′ = w .- mean(w; dims=2)\n",
    "    \n",
    "    v′ .* w′\n",
    "    end;"
   ]
  },
  {
   "cell_type": "code",
   "execution_count": 15,
   "metadata": {},
   "outputs": [],
   "source": [
    "jldopen(\"../3D$frame.jld2\", \"a+\") do file\n",
    "    file[\"ω\"] = ω\n",
    "    file[\"v′w′\"] = v′w′\n",
    "    end;"
   ]
  },
  {
   "cell_type": "code",
   "execution_count": null,
   "metadata": {},
   "outputs": [],
   "source": []
  }
 ],
 "metadata": {
  "kernelspec": {
   "display_name": "Julia 1.7.2",
   "language": "julia",
   "name": "julia-1.7"
  },
  "language_info": {
   "file_extension": ".jl",
   "mimetype": "application/julia",
   "name": "julia",
   "version": "1.7.2"
  }
 },
 "nbformat": 4,
 "nbformat_minor": 4
}
