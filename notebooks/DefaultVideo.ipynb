{
 "cells": [
  {
   "cell_type": "code",
   "execution_count": 1,
   "metadata": {},
   "outputs": [
    {
     "name": "stderr",
     "output_type": "stream",
     "text": [
      "\u001b[36m\u001b[1m[ \u001b[22m\u001b[39m\u001b[36m\u001b[1mInfo: \u001b[22m\u001b[39mOceananigans will use 4 threads\n"
     ]
    }
   ],
   "source": [
    "using Oceananigans\n",
    "using JLD2\n",
    "using CairoMakie\n",
    "using Statistics\n",
    "using ImageFiltering: imfilter, Kernel.gaussian\n",
    "using ZipFile"
   ]
  },
  {
   "cell_type": "code",
   "execution_count": 4,
   "metadata": {},
   "outputs": [
    {
     "data": {
      "text/plain": [
       "makestreamfuncvid (generic function with 2 methods)"
      ]
     },
     "execution_count": 4,
     "metadata": {},
     "output_type": "execute_result"
    }
   ],
   "source": [
    "runname = \"default\"\n",
    "@inline function makestreamfuncvid(runname, i=nothing)\n",
    "    foldername = \"../../scratch/filament-instability/$runname\"\n",
    "    qRifilename = \"qRi.jld2\"\n",
    "    filename = \"down_front_mean.jld2\"\n",
    "    paramfilename = \"parameters.jld2\"\n",
    "    frames, grid = jldopen(\"$foldername/$filename\") do file\n",
    "        keys(file[\"timeseries/t\"]), file[\"serialized/grid\"]\n",
    "        end;\n",
    "    xᶜᵃᵃ = xnodes(Center, grid)\n",
    "    xᶠᵃᵃ = xnodes(Face, grid)\n",
    "    zᵃᵃᶜ = znodes(Center, grid)\n",
    "    zᵃᵃᶠ = znodes(Face, grid)\n",
    "    function ψᶜᶜᶜ(uᶠᶜᶜ, wᶜᶜᶠ, xᶜᵃᵃ, xᶠᵃᵃ, zᵃᵃᶜ, zᵃᵃᶠ)\n",
    "        # Integrate\n",
    "        Δzᵃᵃᶜ = reshape(diff(zᵃᵃᶠ), 1, length(zᵃᵃᶜ))\n",
    "        Δx = xᶠᵃᵃ[2] - xᶠᵃᵃ[1]\n",
    "        aᶠᶜᶜ = cumsum(uᶠᶜᶜ .* Δzᵃᵃᶜ; dims=2)\n",
    "\n",
    "        bᶜᶜᶠ = cumsum(wᶜᶜᶠ .* Δx; dims=1)\n",
    "        aᶜᶜᶜ = (circshift(aᶠᶜᶜ, (-1, 0)) .+ aᶠᶜᶜ) / 2\n",
    "        bᶜᶜᶜ = (bᶜᶜᶠ[:, 1:end-1] .+ bᶜᶜᶠ[:, 2:end]) ./ 2\n",
    "        return -aᶜᶜᶜ .+ bᶜᶜᶜ\n",
    "    end\n",
    "    sp = jldopen(\"$foldername/$paramfilename\") do file\n",
    "        file[\"parameters/simulation\"]\n",
    "    end\n",
    "    file = jldopen(\"$foldername/$filename\")\n",
    "    #qRifile = jldopen(\"$foldername/$qRifilename\")\n",
    "\n",
    "    n = Observable(101)\n",
    "\n",
    "    frame = @lift frames[$n]\n",
    "\n",
    "\n",
    "    ts = [file[\"timeseries/t/$f\"] for f in frames] .- 1\n",
    "    v = @lift file[\"timeseries/v_dfm/$($frame)\"][:, 1, :]\n",
    "\n",
    "    u = @lift file[\"timeseries/u_dfm/$($frame)\"][:, 1, :]\n",
    "    w = @lift file[\"timeseries/w_dfm/$($frame)\"][:, 1, :]\n",
    "\n",
    "    b = @lift file[\"timeseries/b_dfm/$($frame)\"][:, 1, :]\n",
    "    σ=0\n",
    "    # Get the secondary cirulation streamfunction\n",
    "    ψ = @lift imfilter(ψᶜᶜᶜ($u, $w, xᶜᵃᵃ, xᶠᵃᵃ, zᵃᵃᶜ, zᵃᵃᶠ), gaussian((σ, 0), (4σ+1, 5)), \"circular\")\n",
    "    # Vorticity\n",
    "    \n",
    "    ζ = @lift imfilter((circshift($v, (-1, 0)) .- circshift($v, (1, 0))) / (xᶜᵃᵃ[3] - xᶜᵃᵃ[1]), gaussian((σ, 0), (4σ+1, 5)), \"circular\")\n",
    "    #ζ_check = @lift ifelse\n",
    "    #q = @lift imfilter(qRifile[\"timeseries/q/$($frame)\"][:, 1, :], gaussian((σ, 0), (4σ+1, 5)), \"circular\")\n",
    "    #invRi = @lift imfilter(qRifile[\"timeseries/invRi/$($frame)\"][:, 1, :], gaussian((σ, 0), (4σ+1, 5)), \"circular\")\n",
    "    title = @lift \"Ro=$(round(sp.Ro; digits=1)), Ri=$(round(sp.Ri; digits=1)), Ek=$(round(sp.Ek; digits=1)), t = $(round(ts[$n]; digits=2))\"\n",
    "\n",
    "    axis_kwargs = (; xlabel=\"x\", ylabel=\"z\", title, limits=(-5, 5, -0.12, 0))\n",
    "\n",
    "    fig = Figure(resolution=(1000, 500))\n",
    "    ax = Axis(fig[1, 1]; axis_kwargs...)\n",
    "\n",
    "    ht = heatmap!(ax, xᶜᵃᵃ, zᵃᵃᶜ, ζ; colormap=:balance, colorrange=(-10, 10))\n",
    "    ψrange = range(-3e-2, 3e-2, 80)\n",
    "    contour!(ax, xᶜᵃᵃ, zᵃᵃᶜ, ψ; colormap=:BrBG_10, levels=ψrange, alpha=1, linewidth=1.5)\n",
    "    bstep = 1.875\n",
    "    brange = minimum(b[]):bstep:maximum(b[])\n",
    "    contour!(ax, xᶜᵃᵃ, zᵃᵃᶜ, b; color=(:black, 1), levels=brange, linewidth=1)\n",
    "    #contour!(ax, xᶜᵃᵃ, zᵃᵃᶜ, ζ; color=(:red, 1), levels=[-1], alpha=0.5, linewidth=1)\n",
    "    #contour!(ax, xᶜᵃᵃ, zᵃᵃᶠ, invRi; color=:blue, levels=[1/0.95, 1/0.25])\n",
    "    #contour!(ax, xᶜᵃᵃ, zᵃᵃᶜ, q; color=:red, levels=[0])\n",
    "    Colorbar(fig[1, 2], ht, label=L\"\\langle ζ \\rangle\")\n",
    "    \n",
    "    if i != nothing\n",
    "        n[] = i\n",
    "        return fig\n",
    "    end\n",
    "    \n",
    "    vidfoldername = \"output/videos/$runname/streamfunctiontop\"\n",
    "    !ispath(vidfoldername) && mkpath(vidfoldername)\n",
    "    w = ZipFile.Writer(\"$vidfoldername.zip\");\n",
    "    for i in 101:length(frames)\n",
    "        n[] = i\n",
    "        zipfile = ZipFile.addfile(w, \"$(lpad(i, 4, '0')).png\")\n",
    "        save(\"$vidfoldername/$(lpad(i, 4, '0')).png\", fig; resolution=(2000, 1000))\n",
    "        open(r -> write(zipfile, r), \"$vidfoldername/$(lpad(i, 4, '0')).png\")\n",
    "        close(zipfile)\n",
    "        rm(\"$vidfoldername/$(lpad(i, 4, '0')).png\")\n",
    "    end\n",
    "    close(file)\n",
    "    rm(\"$vidfoldername\")\n",
    "    close(w)\n",
    "    #rm(\"$vidfoldername.zip\")\n",
    "    fig\n",
    "end"
   ]
  },
  {
   "cell_type": "code",
   "execution_count": 5,
   "metadata": {},
   "outputs": [
    {
     "name": "stderr",
     "output_type": "stream",
     "text": [
      "\u001b[33m\u001b[1m┌ \u001b[22m\u001b[39m\u001b[33m\u001b[1mWarning: \u001b[22m\u001b[39mOpening file with JLD2.MmapIO failed, falling back to IOStream\n",
      "\u001b[33m\u001b[1m└ \u001b[22m\u001b[39m\u001b[90m@ JLD2 ~/.julia/packages/JLD2/twZ5D/src/JLD2.jl:298\u001b[39m\n"
     ]
    },
    {
     "ename": "LoadError",
     "evalue": "SystemError: opening file \"../../scratch/filament-instability/Ri000-bc/down_front_mean.jld2\": No such file or directory",
     "output_type": "error",
     "traceback": [
      "SystemError: opening file \"../../scratch/filament-instability/Ri000-bc/down_front_mean.jld2\": No such file or directory",
      "",
      "Stacktrace:",
      "  [1] systemerror(p::String, errno::Int32; extrainfo::Nothing)",
      "    @ Base ./error.jl:174",
      "  [2] #systemerror#68",
      "    @ ./error.jl:173 [inlined]",
      "  [3] systemerror",
      "    @ ./error.jl:173 [inlined]",
      "  [4] open(fname::String; lock::Bool, read::Bool, write::Bool, create::Bool, truncate::Bool, append::Bool)",
      "    @ Base ./iostream.jl:293",
      "  [5] openfile",
      "    @ ~/.julia/packages/JLD2/twZ5D/src/JLD2.jl:288 [inlined]",
      "  [6] openfile(T::Type, fname::String, wr::Bool, create::Bool, truncate::Bool, fallback::Type)",
      "    @ JLD2 ~/.julia/packages/JLD2/twZ5D/src/JLD2.jl:299",
      "  [7] jldopen(fname::String, wr::Bool, create::Bool, truncate::Bool, iotype::Type{JLD2.MmapIO}; fallback::Type{IOStream}, compress::Bool, mmaparrays::Bool, typemap::Dict{String, Any}, parallel_read::Bool)",
      "    @ JLD2 ~/.julia/packages/JLD2/twZ5D/src/JLD2.jl:366",
      "  [8] jldopen(fname::String, wr::Bool, create::Bool, truncate::Bool, iotype::Type{JLD2.MmapIO})",
      "    @ JLD2 ~/.julia/packages/JLD2/twZ5D/src/JLD2.jl:319",
      "  [9] jldopen(fname::String, mode::String; iotype::Type, kwargs::Base.Pairs{Symbol, Union{}, Tuple{}, NamedTuple{(), Tuple{}}})",
      "    @ JLD2 ~/.julia/packages/JLD2/twZ5D/src/JLD2.jl:455",
      " [10] jldopen (repeats 2 times)",
      "    @ ~/.julia/packages/JLD2/twZ5D/src/JLD2.jl:450 [inlined]",
      " [11] jldopen(f::Function, args::String; kws::Base.Pairs{Symbol, Union{}, Tuple{}, NamedTuple{(), Tuple{}}})",
      "    @ JLD2 ~/.julia/packages/JLD2/twZ5D/src/loadsave.jl:2",
      " [12] jldopen",
      "    @ ~/.julia/packages/JLD2/twZ5D/src/loadsave.jl:2 [inlined]",
      " [13] makestreamfuncvid",
      "    @ ./In[4]:7 [inlined]",
      " [14] _broadcast_getindex_evalf",
      "    @ ./broadcast.jl:670 [inlined]",
      " [15] _broadcast_getindex",
      "    @ ./broadcast.jl:643 [inlined]",
      " [16] getindex",
      "    @ ./broadcast.jl:597 [inlined]",
      " [17] copy",
      "    @ ./broadcast.jl:875 [inlined]",
      " [18] materialize(bc::Base.Broadcast.Broadcasted{Base.Broadcast.DefaultArrayStyle{0}, Nothing, typeof(makestreamfuncvid), Tuple{Base.RefValue{String}, Int64}})",
      "    @ Base.Broadcast ./broadcast.jl:860",
      " [19] top-level scope",
      "    @ In[5]:1"
     ]
    }
   ],
   "source": [
    "makestreamfuncvid.(\"Ri000-bc\", 1)"
   ]
  },
  {
   "cell_type": "code",
   "execution_count": null,
   "metadata": {},
   "outputs": [],
   "source": []
  }
 ],
 "metadata": {
  "kernelspec": {
   "display_name": "Julia 1.7.2",
   "language": "julia",
   "name": "julia-1.7"
  },
  "language_info": {
   "file_extension": ".jl",
   "mimetype": "application/julia",
   "name": "julia",
   "version": "1.7.2"
  }
 },
 "nbformat": 4,
 "nbformat_minor": 4
}
