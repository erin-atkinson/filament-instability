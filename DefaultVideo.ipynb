{
 "cells": [
  {
   "cell_type": "code",
   "execution_count": 1,
   "metadata": {},
   "outputs": [
    {
     "name": "stderr",
     "output_type": "stream",
     "text": [
      "\u001b[36m\u001b[1m[ \u001b[22m\u001b[39m\u001b[36m\u001b[1mInfo: \u001b[22m\u001b[39mOceananigans will use 4 threads\n"
     ]
    }
   ],
   "source": [
    "using Oceananigans\n",
    "using JLD2\n",
    "using CairoMakie\n",
    "using Statistics\n",
    "using ImageFiltering: imfilter, Kernel.gaussian\n",
    "using ZipFile"
   ]
  },
  {
   "cell_type": "code",
   "execution_count": 2,
   "metadata": {},
   "outputs": [
    {
     "data": {
      "text/plain": [
       "makestreamfuncvid (generic function with 2 methods)"
      ]
     },
     "execution_count": 2,
     "metadata": {},
     "output_type": "execute_result"
    }
   ],
   "source": [
    "runname = \"default\"\n",
    "@inline function makestreamfuncvid(runname, i=nothing)\n",
    "    foldername = \"../scratch/filament-instability/$runname\"\n",
    "    qRifilename = \"qRi.jld2\"\n",
    "    filename = \"down_front_mean.jld2\"\n",
    "    frames, grid = jldopen(\"$foldername/$filename\") do file\n",
    "        keys(file[\"timeseries/t\"]), file[\"serialized/grid\"]\n",
    "        end;\n",
    "    xᶜᵃᵃ = xnodes(Center, grid)\n",
    "    xᶠᵃᵃ = xnodes(Face, grid)\n",
    "    zᵃᵃᶜ = znodes(Center, grid)\n",
    "    zᵃᵃᶠ = znodes(Face, grid)\n",
    "    function ψᶜᶜᶜ(uᶠᶜᶜ, wᶜᶜᶠ, xᶜᵃᵃ, xᶠᵃᵃ, zᵃᵃᶜ, zᵃᵃᶠ)\n",
    "        # Integrate\n",
    "        Δzᵃᵃᶜ = reshape(diff(zᵃᵃᶠ), 1, length(zᵃᵃᶜ))\n",
    "        Δx = xᶠᵃᵃ[2] - xᶠᵃᵃ[1]\n",
    "        aᶠᶜᶜ = cumsum(uᶠᶜᶜ .* Δzᵃᵃᶜ; dims=3)\n",
    "\n",
    "        bᶜᶜᶠ = cumsum(wᶜᶜᶠ .* Δx; dims=1)\n",
    "        aᶜᶜᶜ = (circshift(aᶠᶜᶜ, (-1, 0)) .+ aᶠᶜᶜ) / 2\n",
    "        bᶜᶜᶜ = (bᶜᶜᶠ[:, 1:end-1] .+ bᶜᶜᶠ[:, 2:end]) ./ 2\n",
    "        return -aᶜᶜᶜ .+ bᶜᶜᶜ\n",
    "    end\n",
    "\n",
    "    file = jldopen(\"$foldername/$filename\")\n",
    "    #qRifile = jldopen(\"$foldername/$qRifilename\")\n",
    "\n",
    "    n = Observable(101)\n",
    "\n",
    "    frame = @lift frames[$n]\n",
    "\n",
    "\n",
    "    ts = [file[\"timeseries/t/$f\"] for f in frames] .- 1\n",
    "    v = @lift file[\"timeseries/v_dfm/$($frame)\"][:, 1, :]\n",
    "\n",
    "    u = @lift file[\"timeseries/u_dfm/$($frame)\"][:, 1, :]\n",
    "    w = @lift file[\"timeseries/w_dfm/$($frame)\"][:, 1, :]\n",
    "\n",
    "    b = @lift file[\"timeseries/b_dfm/$($frame)\"][:, 1, :]\n",
    "    σ=3\n",
    "    # Get the secondary cirulation streamfunction\n",
    "    ψ = @lift imfilter(ψᶜᶜᶜ($u, $w, xᶜᵃᵃ, xᶠᵃᵃ, zᵃᵃᶜ, zᵃᵃᶠ), gaussian((σ, 0), (4σ+1, 5)), \"circular\")\n",
    "    # Vorticity\n",
    "    \n",
    "    ζ = @lift imfilter((circshift($v, (-1, 0)) .- circshift($v, (1, 0))) / (xᶜᵃᵃ[3] - xᶜᵃᵃ[1]), gaussian((σ, 0), (4σ+1, 5)), \"circular\")\n",
    "    #ζ_check = @lift ifelse\n",
    "    #q = @lift imfilter(qRifile[\"timeseries/q/$($frame)\"][:, 1, :], gaussian((σ, 0), (4σ+1, 5)), \"circular\")\n",
    "    #invRi = @lift imfilter(qRifile[\"timeseries/invRi/$($frame)\"][:, 1, :], gaussian((σ, 0), (4σ+1, 5)), \"circular\")\n",
    "    title = @lift \"$runname, t = $(round(ts[$n]; digits=2))\"\n",
    "\n",
    "    axis_kwargs = (; xlabel=\"x\", ylabel=\"z\", title, limits=(-2, 0, -0.15, 0))\n",
    "\n",
    "    fig = Figure(resolution=(900, 600))\n",
    "    ax = Axis(fig[1, 1]; axis_kwargs...)\n",
    "\n",
    "    ht = heatmap!(ax, xᶜᵃᵃ, zᵃᵃᶜ, ζ; colormap=:balance, colorrange=(-6, 6))\n",
    "    contour!(ax, xᶜᵃᵃ, zᵃᵃᶜ, ψ; colormap=:BrBG_10, levels=range(-0.012, 0.012, 160), alpha=1, linewidth=1.5)\n",
    "    contour!(ax, xᶜᵃᵃ, zᵃᵃᶜ, b; color=(:black, 1), levels=range(-200, 200, 160), linewidth=1.5)\n",
    "    contour!(ax, xᶜᵃᵃ, zᵃᵃᶜ, ζ; color=(:red, 1), levels=[-1], linewidth=1.5)\n",
    "    #contour!(ax, xᶜᵃᵃ, zᵃᵃᶠ, invRi; color=:blue, levels=[1/0.95, 1/0.25])\n",
    "    #contour!(ax, xᶜᵃᵃ, zᵃᵃᶜ, q; color=:red, levels=[0])\n",
    "    Colorbar(fig[1, 2], ht, label=L\"\\langle ζ \\rangle\")\n",
    "    \n",
    "    if i != nothing\n",
    "        n[] = i\n",
    "        return fig\n",
    "    end\n",
    "    \n",
    "    vidfoldername = \"output/videos/$runname/streamfunctiontop\"\n",
    "    !ispath(vidfoldername) && mkpath(vidfoldername)\n",
    "    w = ZipFile.Writer(\"$vidfoldername.zip\");\n",
    "    for i in 101:length(frames)\n",
    "        n[] = i\n",
    "        zipfile = ZipFile.addfile(w, \"$(lpad(i, 4, '0')).png\");\n",
    "        save(\"$vidfoldername/$(lpad(i, 4, '0')).png\", fig; resolution=(1200, 800))\n",
    "        open(r -> write(zipfile, r), \"$vidfoldername/$(lpad(i, 4, '0')).png\")\n",
    "        close(zipfile)\n",
    "        rm(\"$vidfoldername/$(lpad(i, 4, '0')).png\")\n",
    "    end\n",
    "    close(file)\n",
    "    rm(\"$vidfoldername\")\n",
    "    close(w)\n",
    "    #rm(\"$vidfoldername.zip\")\n",
    "    fig\n",
    "end"
   ]
  },
  {
   "cell_type": "code",
   "execution_count": null,
   "metadata": {},
   "outputs": [],
   "source": [
    "makestreamfuncvid(\"Ro1Ri02Ek1\", 101)"
   ]
  },
  {
   "cell_type": "code",
   "execution_count": null,
   "metadata": {},
   "outputs": [],
   "source": [
    "runnames = [\"Ri02Ro2\", \"Ri02Ro3\", \"Ri06Ro2\", \"Ri06Ro3\", \"Ri09Ro2\", \"Ri09Ro3\", \"Ri1Ro2\", \"Ri1Ro3\"]\n",
    "for runname in runnames\n",
    "    makestreamfuncvid(runname)\n",
    "end"
   ]
  }
 ],
 "metadata": {
  "kernelspec": {
   "display_name": "Julia 1.7.2",
   "language": "julia",
   "name": "julia-1.7"
  },
  "language_info": {
   "file_extension": ".jl",
   "mimetype": "application/julia",
   "name": "julia",
   "version": "1.7.2"
  }
 },
 "nbformat": 4,
 "nbformat_minor": 4
}
