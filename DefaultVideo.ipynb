{
 "cells": [
  {
   "cell_type": "code",
   "execution_count": 1,
   "metadata": {},
   "outputs": [
    {
     "name": "stderr",
     "output_type": "stream",
     "text": [
      "\u001b[36m\u001b[1m[ \u001b[22m\u001b[39m\u001b[36m\u001b[1mInfo: \u001b[22m\u001b[39mOceananigans will use 4 threads\n"
     ]
    }
   ],
   "source": [
    "using Oceananigans\n",
    "using JLD2\n",
    "using CairoMakie\n",
    "using Statistics"
   ]
  },
  {
   "cell_type": "code",
   "execution_count": 6,
   "metadata": {},
   "outputs": [],
   "source": [
    "foldername = \"../scratch/filament-instability/default\"\n",
    "filename = \"down_front_mean.jld2\"\n",
    "frames, grid = jldopen(\"$foldername/$filename\") do file\n",
    "    keys(file[\"timeseries/t\"]), file[\"serialized/grid\"]\n",
    "    end;"
   ]
  },
  {
   "cell_type": "code",
   "execution_count": 10,
   "metadata": {},
   "outputs": [],
   "source": [
    "xᵃᵃᶜ = xnodes(Center, grid)\n",
    "xᵃᵃᶠ = xnodes(Face, grid)\n",
    "\n",
    "zᵃᵃᶜ = znodes(Center, grid)\n",
    "zᵃᵃᶠ = znodes(Face, grid);"
   ]
  },
  {
   "cell_type": "code",
   "execution_count": null,
   "metadata": {},
   "outputs": [],
   "source": [
    "function ψᶜᶜᶜ(uᶠᶜᶜ, wᶜᶜᶠ, xᵃᵃᶜ, xᵃᵃᶠ, zᵃᵃᶜ, zᵃᵃᶠ)\n",
    "    # Integrate\n",
    "    Δzᵃᵃᶜ = \n",
    "    a = cumsum(uᶠᶜᶜ .* )\n",
    "    b = cumsum(wᶜᶜᶠ .* circdiff(xᶠᵃᵃ))\n",
    "    # Interpolate\n",
    "    \n",
    "end"
   ]
  },
  {
   "cell_type": "code",
   "execution_count": null,
   "metadata": {},
   "outputs": [],
   "source": [
    "file = jldopen(\"foldername/$filename\")\n",
    "\n",
    "\n",
    "n = Observable(1)\n",
    "\n",
    "frame = @lift frames[$n]\n",
    "\n",
    "v = @lift file[\"timeseries/v/$($frame)\"][:, 1, :]\n",
    "\n",
    "u = @lift file[\"timeseries/u/$($frame)\"][:, 1, :]\n",
    "w = @lift file[\"timeseries/w/$($frame)\"][:, 1, :]\n",
    "\n",
    "b = @lift file[\"timeseries/b/$($frame)\"][:, 1, :]\n",
    "\n",
    "# Get the secondary cirulation streamfunction\n",
    "\n",
    "\n",
    "close(file)"
   ]
  },
  {
   "cell_type": "code",
   "execution_count": null,
   "metadata": {},
   "outputs": [],
   "source": [
    "function get_plot_data(file, frame)\n",
    "    \n",
    "end"
   ]
  },
  {
   "cell_type": "code",
   "execution_count": 2,
   "metadata": {},
   "outputs": [
    {
     "name": "stdout",
     "output_type": "stream",
     "text": [
      "search: \u001b[0m\u001b[1mF\u001b[22m\u001b[0m\u001b[1mi\u001b[22m\u001b[0m\u001b[1me\u001b[22m\u001b[0m\u001b[1ml\u001b[22m\u001b[0m\u001b[1md\u001b[22m\u001b[0m\u001b[1mT\u001b[22m\u001b[0m\u001b[1mi\u001b[22m\u001b[0m\u001b[1mm\u001b[22m\u001b[0m\u001b[1me\u001b[22m\u001b[0m\u001b[1mS\u001b[22m\u001b[0m\u001b[1me\u001b[22m\u001b[0m\u001b[1mr\u001b[22m\u001b[0m\u001b[1mi\u001b[22m\u001b[0m\u001b[1me\u001b[22m\u001b[0m\u001b[1ms\u001b[22m\n",
      "\n"
     ]
    },
    {
     "data": {
      "text/latex": [
       "\\begin{verbatim}\n",
       "FieldTimeSeries{LX, LY, LZ}(grid, times, [FT=eltype(grid);]\n",
       "                            indices = (:, :, :),\n",
       "                            boundary_conditions = nothing)\n",
       "\\end{verbatim}\n",
       "Return a \\texttt{FieldTimeSeries} at location \\texttt{(LX, LY, LZ)}, on \\texttt{grid}, at \\texttt{times}.\n",
       "\n",
       "\\rule{\\textwidth}{1pt}\n",
       "\\begin{verbatim}\n",
       "FieldTimeSeries(path, name;\n",
       "                backend = InMemory(),\n",
       "                grid = nothing,\n",
       "                iterations = nothing,\n",
       "                times = nothing)\n",
       "\\end{verbatim}\n",
       "Returns a \\texttt{FieldTimeSeries} for the field \\texttt{name} describing a field's time history from a JLD2 file located at \\texttt{path}.\n",
       "\n",
       "\\section{Keyword arguments}\n",
       "\\begin{itemize}\n",
       "\\item \\texttt{backend}: \\texttt{InMemory()} to load data into a 4D array or \\texttt{OnDisk()} to lazily load data from disk            when indexing into \\texttt{FieldTimeSeries}.\n",
       "\n",
       "\n",
       "\\item \\texttt{grid}: A grid to associated with data, in the case that the native grid was not serialized         properly.\n",
       "\n",
       "\n",
       "\\item \\texttt{iterations}: Iterations to load. Defaults to all iterations found in the file.\n",
       "\n",
       "\n",
       "\\item \\texttt{times}: Save times to load, as determined through an approximate floating point          comparison to recorded save times. Defaults to times associated with \\texttt{iterations}.          Takes precedence over \\texttt{iterations} if \\texttt{times} is specified.\n",
       "\n",
       "\\end{itemize}\n"
      ],
      "text/markdown": [
       "```\n",
       "FieldTimeSeries{LX, LY, LZ}(grid, times, [FT=eltype(grid);]\n",
       "                            indices = (:, :, :),\n",
       "                            boundary_conditions = nothing)\n",
       "```\n",
       "\n",
       "Return a `FieldTimeSeries` at location `(LX, LY, LZ)`, on `grid`, at `times`.\n",
       "\n",
       "---\n",
       "\n",
       "```\n",
       "FieldTimeSeries(path, name;\n",
       "                backend = InMemory(),\n",
       "                grid = nothing,\n",
       "                iterations = nothing,\n",
       "                times = nothing)\n",
       "```\n",
       "\n",
       "Returns a `FieldTimeSeries` for the field `name` describing a field's time history from a JLD2 file located at `path`.\n",
       "\n",
       "# Keyword arguments\n",
       "\n",
       "  * `backend`: `InMemory()` to load data into a 4D array or `OnDisk()` to lazily load data from disk            when indexing into `FieldTimeSeries`.\n",
       "  * `grid`: A grid to associated with data, in the case that the native grid was not serialized         properly.\n",
       "  * `iterations`: Iterations to load. Defaults to all iterations found in the file.\n",
       "  * `times`: Save times to load, as determined through an approximate floating point          comparison to recorded save times. Defaults to times associated with `iterations`.          Takes precedence over `iterations` if `times` is specified.\n"
      ],
      "text/plain": [
       "\u001b[36m  FieldTimeSeries{LX, LY, LZ}(grid, times, [FT=eltype(grid);]\u001b[39m\n",
       "\u001b[36m                              indices = (:, :, :),\u001b[39m\n",
       "\u001b[36m                              boundary_conditions = nothing)\u001b[39m\n",
       "\n",
       "  Return a \u001b[36mFieldTimeSeries\u001b[39m at location \u001b[36m(LX, LY, LZ)\u001b[39m, on \u001b[36mgrid\u001b[39m, at \u001b[36mtimes\u001b[39m.\n",
       "\n",
       "  ────────────────────────────────────────────────────────────────────────────\n",
       "\n",
       "\u001b[36m  FieldTimeSeries(path, name;\u001b[39m\n",
       "\u001b[36m                  backend = InMemory(),\u001b[39m\n",
       "\u001b[36m                  grid = nothing,\u001b[39m\n",
       "\u001b[36m                  iterations = nothing,\u001b[39m\n",
       "\u001b[36m                  times = nothing)\u001b[39m\n",
       "\n",
       "  Returns a \u001b[36mFieldTimeSeries\u001b[39m for the field \u001b[36mname\u001b[39m describing a field's time\n",
       "  history from a JLD2 file located at \u001b[36mpath\u001b[39m.\n",
       "\n",
       "\u001b[1m  Keyword arguments\u001b[22m\n",
       "\u001b[1m  ≡≡≡≡≡≡≡≡≡≡≡≡≡≡≡≡≡≡≡\u001b[22m\n",
       "\n",
       "    •  \u001b[36mbackend\u001b[39m: \u001b[36mInMemory()\u001b[39m to load data into a 4D array or \u001b[36mOnDisk()\u001b[39m to\n",
       "       lazily load data from disk when indexing into \u001b[36mFieldTimeSeries\u001b[39m.\n",
       "\n",
       "    •  \u001b[36mgrid\u001b[39m: A grid to associated with data, in the case that the native\n",
       "       grid was not serialized properly.\n",
       "\n",
       "    •  \u001b[36miterations\u001b[39m: Iterations to load. Defaults to all iterations found\n",
       "       in the file.\n",
       "\n",
       "    •  \u001b[36mtimes\u001b[39m: Save times to load, as determined through an approximate\n",
       "       floating point comparison to recorded save times. Defaults to\n",
       "       times associated with \u001b[36miterations\u001b[39m. Takes precedence over \u001b[36miterations\u001b[39m\n",
       "       if \u001b[36mtimes\u001b[39m is specified."
      ]
     },
     "execution_count": 2,
     "metadata": {},
     "output_type": "execute_result"
    }
   ],
   "source": [
    "?FieldTimeSeries"
   ]
  },
  {
   "cell_type": "code",
   "execution_count": null,
   "metadata": {},
   "outputs": [],
   "source": []
  }
 ],
 "metadata": {
  "kernelspec": {
   "display_name": "Julia 1.7.2",
   "language": "julia",
   "name": "julia-1.7"
  },
  "language_info": {
   "file_extension": ".jl",
   "mimetype": "application/julia",
   "name": "julia",
   "version": "1.7.2"
  }
 },
 "nbformat": 4,
 "nbformat_minor": 4
}
